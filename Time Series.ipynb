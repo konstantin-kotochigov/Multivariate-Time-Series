{
 "cells": [
  {
   "cell_type": "code",
   "execution_count": null,
   "metadata": {},
   "outputs": [],
   "source": [
    "import keras\n",
    "import pandas\n",
    "from sklearn.preprocessing import MinMaxScaler, LabelEncoder\n",
    "from sklearn.model_selection import GridSearchCV\n",
    "from keras.models import Sequential\n",
    "from keras.layers import LSTM, Dense\n",
    "from keras.wrappers.scikit_learn import KerasRegressor"
   ]
  },
  {
   "cell_type": "code",
   "execution_count": null,
   "metadata": {},
   "outputs": [],
   "source": [
    "df = pandas.read_csv(\"./sales_and_features.csv\").drop(columns=[\"Date\"])\n",
    "# df = pandas.read_csv(\"data/pollution.csv\", header=0, index_col=0)"
   ]
  },
  {
   "cell_type": "code",
   "execution_count": null,
   "metadata": {},
   "outputs": [],
   "source": [
    "y = df.Sales_size\n",
    "X = df.iloc[:,1:]"
   ]
  },
  {
   "cell_type": "code",
   "execution_count": null,
   "metadata": {},
   "outputs": [],
   "source": [
    "scaler = MinMaxScaler(feature_range=(0, 1))\n",
    "scaled = pandas.DataFrame(scaler.fit_transform(X), columns=X.columns)"
   ]
  },
  {
   "cell_type": "code",
   "execution_count": null,
   "metadata": {},
   "outputs": [],
   "source": [
    "df_X = format_data(scaled, 1, 1)\n",
    "X = df_X.values.reshape(df_X.shape[0], 1, df_X.shape[1])\n",
    "y = y[:-2]"
   ]
  },
  {
   "cell_type": "code",
   "execution_count": null,
   "metadata": {},
   "outputs": [],
   "source": []
  },
  {
   "cell_type": "code",
   "execution_count": null,
   "metadata": {},
   "outputs": [],
   "source": [
    "from matplotlib import pyplot\n",
    "values = df.values\n",
    "groups = list(range(1,11))\n",
    "i = 1\n",
    "pyplot.figure(figsize=(10,10))\n",
    "for group in groups:\n",
    "    pyplot.subplot(len(groups), 1, i)\n",
    "    pyplot.plot(values[:, group])\n",
    "    pyplot.title(df.columns[group], y=0.5, loc='right')\n",
    "    i += 1\n",
    "pyplot.show()"
   ]
  },
  {
   "cell_type": "code",
   "execution_count": null,
   "metadata": {},
   "outputs": [],
   "source": []
  },
  {
   "cell_type": "code",
   "execution_count": null,
   "metadata": {},
   "outputs": [],
   "source": [
    "def format_data(df, n_in ,n_out):\n",
    "    cols, names = list(), list()\n",
    "    n_vars = df.shape[1]\n",
    "    for i in range(n_in, 0, -1):\n",
    "        cols.append(df.shift(i))\n",
    "        names += [('var%d(t-%d)' % (j+1, i)) for j in range(n_vars)]\n",
    "    for i in range(0, n_out):\n",
    "        cols.append(df.shift(-i))\n",
    "        if i == 0:\n",
    "            names += [('var%d(t)' % (j+1)) for j in range(n_vars)]\n",
    "        else:\n",
    "            names += [('var%d(t+%d)' % (j+1, i)) for j in range(n_vars)]\n",
    "    agg = pandas.concat(cols, axis=1)\n",
    "    agg.columns = names\n",
    "    agg.dropna(inplace=True)\n",
    "    return agg"
   ]
  },
  {
   "cell_type": "code",
   "execution_count": null,
   "metadata": {},
   "outputs": [],
   "source": []
  },
  {
   "cell_type": "code",
   "execution_count": null,
   "metadata": {},
   "outputs": [],
   "source": [
    "def create_train_test(df):\n",
    "    values = df.values\n",
    "    n_train_hours = 365 * 24\n",
    "    train = values[:n_train_hours, :]\n",
    "    test = values[n_train_hours:, :]\n",
    "    # split into input and outputs\n",
    "    train_X, train_y = train[:, :-1], train[:, -1]\n",
    "    test_X, test_y = test[:, :-1], test[:, -1]\n",
    "    # reshape input to be 3D [samples, timesteps, features]\n",
    "    train_X = train_X.reshape((train_X.shape[0], 1, train_X.shape[1]))\n",
    "    test_X = test_X.reshape((test_X.shape[0], 1, test_X.shape[1]))\n",
    "    print(train_X.shape, train_y.shape, test_X.shape, test_y.shape)\n",
    "    reutrn (train_X, train_y, test_X, test_y)"
   ]
  },
  {
   "cell_type": "code",
   "execution_count": null,
   "metadata": {},
   "outputs": [],
   "source": [
    "df.columns"
   ]
  },
  {
   "cell_type": "code",
   "execution_count": null,
   "metadata": {},
   "outputs": [],
   "source": [
    "df = pandas.read_csv(\"data/pollution.csv\", header=0, index_col=0)\n",
    "values = df.values\n",
    "encoder = LabelEncoder()\n",
    "values[:,8] = encoder.fit_transform(values[:,8])\n",
    "values = values.astype('float32')\n",
    "scaler = MinMaxScaler(feature_range=(0, 1))\n",
    "scaled = scaler.fit_transform(values)\n",
    "\n",
    "dfs = dict()\n",
    "for param in range(1,10):\n",
    "    df = format_data(pandas.DataFrame(scaled), param, 1)\n",
    "    train_X, train_y, test_X, test_y = create_train_test(df)\n",
    "    "
   ]
  },
  {
   "cell_type": "code",
   "execution_count": null,
   "metadata": {},
   "outputs": [],
   "source": [
    "def fit_model():\n",
    "    model = Sequential()\n",
    "    model.add(LSTM(50, input_shape=(train_X.shape[1], train_X.shape[2])))\n",
    "    model.add(Dense(1))\n",
    "    model.compile(loss='mae', optimizer='adam')\n",
    "    history = model.fit(train_X, train_y, epochs=50, batch_size=72, validation_data=(test_X, test_y), verbose=0, shuffle=False)\n",
    "    return history"
   ]
  },
  {
   "cell_type": "code",
   "execution_count": null,
   "metadata": {},
   "outputs": [],
   "source": [
    "history.history['val_loss']"
   ]
  },
  {
   "cell_type": "code",
   "execution_count": null,
   "metadata": {},
   "outputs": [],
   "source": [
    "def show_history(history):\n",
    "    %matplotlib inline\n",
    "    # from matplotlib import pyplot\n",
    "    pyplot.plot(history.history['loss'], label='train')\n",
    "    pyplot.plot(history.history['val_loss'], label='test')\n",
    "    pyplot.legend()\n",
    "    pyplot.show()"
   ]
  },
  {
   "cell_type": "code",
   "execution_count": 192,
   "metadata": {},
   "outputs": [
    {
     "name": "stdout",
     "output_type": "stream",
     "text": [
      "Train on 820 samples, validate on 274 samples\n",
      "Epoch 1/50\n",
      "820/820 [==============================] - 2s 2ms/step - loss: 6.5638 - mean_absolute_error: 6.5638 - val_loss: 7.2020 - val_mean_absolute_error: 7.2020\n",
      "Epoch 2/50\n",
      "820/820 [==============================] - 0s 49us/step - loss: 6.4722 - mean_absolute_error: 6.4722 - val_loss: 7.0879 - val_mean_absolute_error: 7.0879\n",
      "Epoch 3/50\n",
      "820/820 [==============================] - 0s 60us/step - loss: 6.3647 - mean_absolute_error: 6.3647 - val_loss: 6.9476 - val_mean_absolute_error: 6.9476\n",
      "Epoch 4/50\n",
      "820/820 [==============================] - 0s 48us/step - loss: 6.2315 - mean_absolute_error: 6.2315 - val_loss: 6.7700 - val_mean_absolute_error: 6.7700\n",
      "Epoch 5/50\n",
      "820/820 [==============================] - 0s 50us/step - loss: 6.0644 - mean_absolute_error: 6.0644 - val_loss: 6.5473 - val_mean_absolute_error: 6.5473\n",
      "Epoch 6/50\n",
      "820/820 [==============================] - 0s 48us/step - loss: 5.8599 - mean_absolute_error: 5.8599 - val_loss: 6.2782 - val_mean_absolute_error: 6.2782\n",
      "Epoch 7/50\n",
      "820/820 [==============================] - 0s 51us/step - loss: 5.6161 - mean_absolute_error: 5.6161 - val_loss: 5.9655 - val_mean_absolute_error: 5.9655\n",
      "Epoch 8/50\n",
      "820/820 [==============================] - 0s 48us/step - loss: 5.3371 - mean_absolute_error: 5.3371 - val_loss: 5.6122 - val_mean_absolute_error: 5.6122\n",
      "Epoch 9/50\n",
      "820/820 [==============================] - 0s 62us/step - loss: 5.0261 - mean_absolute_error: 5.0261 - val_loss: 5.2246 - val_mean_absolute_error: 5.2246\n",
      "Epoch 10/50\n",
      "820/820 [==============================] - 0s 51us/step - loss: 4.6854 - mean_absolute_error: 4.6854 - val_loss: 4.8084 - val_mean_absolute_error: 4.8084\n",
      "Epoch 11/50\n",
      "820/820 [==============================] - 0s 49us/step - loss: 4.3245 - mean_absolute_error: 4.3245 - val_loss: 4.3718 - val_mean_absolute_error: 4.3718\n",
      "Epoch 12/50\n",
      "820/820 [==============================] - 0s 56us/step - loss: 3.9495 - mean_absolute_error: 3.9495 - val_loss: 3.9394 - val_mean_absolute_error: 3.9394\n",
      "Epoch 13/50\n",
      "820/820 [==============================] - 0s 57us/step - loss: 3.5797 - mean_absolute_error: 3.5797 - val_loss: 3.5328 - val_mean_absolute_error: 3.5328\n",
      "Epoch 14/50\n",
      "820/820 [==============================] - 0s 59us/step - loss: 3.2281 - mean_absolute_error: 3.2281 - val_loss: 3.1668 - val_mean_absolute_error: 3.1668\n",
      "Epoch 15/50\n",
      "820/820 [==============================] - 0s 52us/step - loss: 2.9110 - mean_absolute_error: 2.9110 - val_loss: 2.8443 - val_mean_absolute_error: 2.8443\n",
      "Epoch 16/50\n",
      "820/820 [==============================] - 0s 52us/step - loss: 2.6370 - mean_absolute_error: 2.6370 - val_loss: 2.5654 - val_mean_absolute_error: 2.5654\n",
      "Epoch 17/50\n",
      "820/820 [==============================] - 0s 59us/step - loss: 2.4031 - mean_absolute_error: 2.4031 - val_loss: 2.3216 - val_mean_absolute_error: 2.3216\n",
      "Epoch 18/50\n",
      "820/820 [==============================] - 0s 60us/step - loss: 2.1996 - mean_absolute_error: 2.1996 - val_loss: 2.1044 - val_mean_absolute_error: 2.1044\n",
      "Epoch 19/50\n",
      "820/820 [==============================] - 0s 57us/step - loss: 2.0210 - mean_absolute_error: 2.0210 - val_loss: 1.9089 - val_mean_absolute_error: 1.9089\n",
      "Epoch 20/50\n",
      "820/820 [==============================] - 0s 48us/step - loss: 1.8637 - mean_absolute_error: 1.8637 - val_loss: 1.7368 - val_mean_absolute_error: 1.7368\n",
      "Epoch 21/50\n",
      "820/820 [==============================] - 0s 54us/step - loss: 1.7315 - mean_absolute_error: 1.7315 - val_loss: 1.5826 - val_mean_absolute_error: 1.5826\n",
      "Epoch 22/50\n",
      "820/820 [==============================] - 0s 93us/step - loss: 1.6170 - mean_absolute_error: 1.6170 - val_loss: 1.4405 - val_mean_absolute_error: 1.4405\n",
      "Epoch 23/50\n",
      "820/820 [==============================] - 0s 66us/step - loss: 1.5173 - mean_absolute_error: 1.5173 - val_loss: 1.3102 - val_mean_absolute_error: 1.3102\n",
      "Epoch 24/50\n",
      "820/820 [==============================] - 0s 60us/step - loss: 1.4315 - mean_absolute_error: 1.4315 - val_loss: 1.2042 - val_mean_absolute_error: 1.2042\n",
      "Epoch 25/50\n",
      "820/820 [==============================] - 0s 64us/step - loss: 1.3648 - mean_absolute_error: 1.3648 - val_loss: 1.1104 - val_mean_absolute_error: 1.1104\n",
      "Epoch 26/50\n",
      "820/820 [==============================] - 0s 57us/step - loss: 1.3098 - mean_absolute_error: 1.3098 - val_loss: 1.0307 - val_mean_absolute_error: 1.0307\n",
      "Epoch 27/50\n",
      "820/820 [==============================] - 0s 45us/step - loss: 1.2671 - mean_absolute_error: 1.2671 - val_loss: 0.9590 - val_mean_absolute_error: 0.9590\n",
      "Epoch 28/50\n",
      "820/820 [==============================] - 0s 60us/step - loss: 1.2309 - mean_absolute_error: 1.2309 - val_loss: 0.9023 - val_mean_absolute_error: 0.9023\n",
      "Epoch 29/50\n",
      "820/820 [==============================] - 0s 53us/step - loss: 1.2035 - mean_absolute_error: 1.2035 - val_loss: 0.8520 - val_mean_absolute_error: 0.8520\n",
      "Epoch 30/50\n",
      "820/820 [==============================] - 0s 62us/step - loss: 1.1803 - mean_absolute_error: 1.1803 - val_loss: 0.8107 - val_mean_absolute_error: 0.8107\n",
      "Epoch 31/50\n",
      "820/820 [==============================] - 0s 61us/step - loss: 1.1624 - mean_absolute_error: 1.1624 - val_loss: 0.7766 - val_mean_absolute_error: 0.7766\n",
      "Epoch 32/50\n",
      "820/820 [==============================] - 0s 64us/step - loss: 1.1490 - mean_absolute_error: 1.1490 - val_loss: 0.7490 - val_mean_absolute_error: 0.7490\n",
      "Epoch 33/50\n",
      "820/820 [==============================] - 0s 70us/step - loss: 1.1378 - mean_absolute_error: 1.1378 - val_loss: 0.7302 - val_mean_absolute_error: 0.7302\n",
      "Epoch 34/50\n",
      "820/820 [==============================] - 0s 64us/step - loss: 1.1288 - mean_absolute_error: 1.1288 - val_loss: 0.7178 - val_mean_absolute_error: 0.7178\n",
      "Epoch 35/50\n",
      "820/820 [==============================] - 0s 64us/step - loss: 1.1213 - mean_absolute_error: 1.1213 - val_loss: 0.7026 - val_mean_absolute_error: 0.7026\n",
      "Epoch 36/50\n",
      "820/820 [==============================] - 0s 54us/step - loss: 1.1137 - mean_absolute_error: 1.1137 - val_loss: 0.6943 - val_mean_absolute_error: 0.6943\n",
      "Epoch 37/50\n",
      "820/820 [==============================] - 0s 47us/step - loss: 1.1074 - mean_absolute_error: 1.1074 - val_loss: 0.6864 - val_mean_absolute_error: 0.6864\n",
      "Epoch 38/50\n",
      "820/820 [==============================] - 0s 61us/step - loss: 1.1002 - mean_absolute_error: 1.1002 - val_loss: 0.6811 - val_mean_absolute_error: 0.6811\n",
      "Epoch 39/50\n",
      "820/820 [==============================] - 0s 62us/step - loss: 1.0945 - mean_absolute_error: 1.0945 - val_loss: 0.6764 - val_mean_absolute_error: 0.6764\n",
      "Epoch 40/50\n",
      "820/820 [==============================] - 0s 60us/step - loss: 1.0888 - mean_absolute_error: 1.0888 - val_loss: 0.6731 - val_mean_absolute_error: 0.6731\n",
      "Epoch 41/50\n",
      "820/820 [==============================] - 0s 59us/step - loss: 1.0834 - mean_absolute_error: 1.0834 - val_loss: 0.6741 - val_mean_absolute_error: 0.6741\n",
      "Epoch 42/50\n",
      "820/820 [==============================] - 0s 77us/step - loss: 1.0783 - mean_absolute_error: 1.0783 - val_loss: 0.6766 - val_mean_absolute_error: 0.6766\n",
      "Epoch 43/50\n",
      "820/820 [==============================] - 0s 50us/step - loss: 1.0735 - mean_absolute_error: 1.0735 - val_loss: 0.6767 - val_mean_absolute_error: 0.6767\n",
      "Epoch 44/50\n",
      "820/820 [==============================] - 0s 42us/step - loss: 1.0685 - mean_absolute_error: 1.0685 - val_loss: 0.6759 - val_mean_absolute_error: 0.6759\n",
      "Epoch 45/50\n",
      "820/820 [==============================] - 0s 54us/step - loss: 1.0634 - mean_absolute_error: 1.0634 - val_loss: 0.6793 - val_mean_absolute_error: 0.6793\n",
      "Epoch 46/50\n",
      "820/820 [==============================] - 0s 61us/step - loss: 1.0583 - mean_absolute_error: 1.0583 - val_loss: 0.6790 - val_mean_absolute_error: 0.6790\n",
      "Epoch 47/50\n",
      "820/820 [==============================] - 0s 57us/step - loss: 1.0530 - mean_absolute_error: 1.0530 - val_loss: 0.6804 - val_mean_absolute_error: 0.6804\n",
      "Epoch 48/50\n",
      "820/820 [==============================] - 0s 60us/step - loss: 1.0477 - mean_absolute_error: 1.0477 - val_loss: 0.6808 - val_mean_absolute_error: 0.6808\n",
      "Epoch 49/50\n",
      "820/820 [==============================] - 0s 56us/step - loss: 1.0422 - mean_absolute_error: 1.0422 - val_loss: 0.6779 - val_mean_absolute_error: 0.6779\n",
      "Epoch 50/50\n"
     ]
    },
    {
     "name": "stdout",
     "output_type": "stream",
     "text": [
      " 50/820 [>.............................] - ETA: 0s - loss: 0.9496 - mean_absolute_error: 0.9496\b\b\b\b\b\b\b\b\b\b\b\b\b\b\b\b\b\b\b\b\b\b\b\b\b\b\b\b\b\b\b\b\b\b\b\b\b\b\b\b\b\b\b\b\b\b\b\b\b\b\b\b\b\b\b\b\b\b\b\b\b\b\b\b\b\b\b\b\b\b\b\b\b\b\b\b\b\b\b\b\b\b\b\b\b\b\b\b\b\b\b\b\b\b\b\r",
      "820/820 [==============================] - 0s 63us/step - loss: 1.0369 - mean_absolute_error: 1.0369 - val_loss: 0.6780 - val_mean_absolute_error: 0.6780\n"
     ]
    }
   ],
   "source": [
    "from sklearn import metrics\n",
    "from sklearn.metrics import make_scorer\n",
    "\n",
    "features = X.shape[2]\n",
    "def create_model(units=10):\n",
    "    model = Sequential()\n",
    "    model.add(LSTM(10, input_shape=(1,features)))\n",
    "    model.add(Dense(1))\n",
    "    model.compile(loss='mean_absolute_error', optimizer='adam', metrics=['mae'])\n",
    "    return model\n",
    "param_grid = {\"units\":[5,10]}\n",
    "model = KerasRegressor(build_fn=create_model, epochs=50, batch_size=50, verbose=1, validation_split=0.25)\n",
    "# gridSearchCV = GridSearchCV(estimator=model, param_grid = param_grid, scoring=make_scorer(metrics.mean_absolute_error),  n_jobs=-1, cv=2, verbose=0)\n",
    "gridSearchCV = GridSearchCV(estimator=model, param_grid = param_grid, scoring='neg_mean_absolute_error',  n_jobs=-1, cv=2, verbose=0)\n",
    "grid_result = gridSearchCV.fit(X, y)"
   ]
  },
  {
   "cell_type": "code",
   "execution_count": 193,
   "metadata": {},
   "outputs": [
    {
     "name": "stdout",
     "output_type": "stream",
     "text": [
      "Best: -1.132729 using {'units': 5}\n",
      "-1.132729 (0.370539) with: {'units': 5}\n",
      "-1.202227 (0.410874) with: {'units': 10}\n"
     ]
    }
   ],
   "source": [
    "print(\"Best: %f using %s\" % (grid_result.best_score_, grid_result.best_params_))\n",
    "means = grid_result.cv_results_['mean_test_score']\n",
    "stds = grid_result.cv_results_['std_test_score']\n",
    "params = grid_result.cv_results_['params']\n",
    "for mean, stdev, param in zip(means, stds, params):\n",
    "    print(\"%f (%f) with: %r\" % (mean, stdev, param))"
   ]
  },
  {
   "cell_type": "code",
   "execution_count": null,
   "metadata": {},
   "outputs": [],
   "source": [
    "model = Sequential()\n",
    "model.add(LSTM(units=10, input_shape=(1,features)))\n",
    "model.add(Dense(1))\n",
    "model.compile(optimizer='adam', loss='mean_absolute_error')\n",
    "history=model.fit(X,y, verbose=1, epochs=50, validation_split=0.25)"
   ]
  },
  {
   "cell_type": "code",
   "execution_count": null,
   "metadata": {},
   "outputs": [],
   "source": [
    "# show_history(history)\n",
    "# history.history\n",
    "model.predict(X[:1]), y[1]"
   ]
  },
  {
   "cell_type": "code",
   "execution_count": null,
   "metadata": {},
   "outputs": [],
   "source": [
    "grid_result.cv_results_"
   ]
  },
  {
   "cell_type": "code",
   "execution_count": 181,
   "metadata": {},
   "outputs": [
    {
     "data": {
      "text/plain": [
       "GridSearchCV(cv=2, error_score='raise-deprecating',\n",
       "       estimator=<keras.wrappers.scikit_learn.KerasRegressor object at 0x7ff009c1e8d0>,\n",
       "       fit_params=None, iid='warn', n_jobs=-1,\n",
       "       param_grid={'units': [5, 10]}, pre_dispatch='2*n_jobs', refit=True,\n",
       "       return_train_score='warn', scoring=None, verbose=0)"
      ]
     },
     "execution_count": 181,
     "metadata": {},
     "output_type": "execute_result"
    }
   ],
   "source": [
    "grid_result"
   ]
  },
  {
   "cell_type": "code",
   "execution_count": null,
   "metadata": {},
   "outputs": [],
   "source": []
  }
 ],
 "metadata": {
  "kernelspec": {
   "display_name": "Python 3",
   "language": "python",
   "name": "python3"
  },
  "language_info": {
   "codemirror_mode": {
    "name": "ipython",
    "version": 3
   },
   "file_extension": ".py",
   "mimetype": "text/x-python",
   "name": "python",
   "nbconvert_exporter": "python",
   "pygments_lexer": "ipython3",
   "version": "3.6.7"
  }
 },
 "nbformat": 4,
 "nbformat_minor": 2
}
